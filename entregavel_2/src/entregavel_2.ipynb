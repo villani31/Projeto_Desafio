{
 "cells": [
  {
   "cell_type": "markdown",
   "metadata": {},
   "source": [
    "## Entregável 2\n",
    "\n",
    "Calcular o total líquido da empresa. Esse total é calculado da seguinte forma \n",
    "total_liquido = soma(total_bruto – desconto_percentual). \n",
    "\n",
    "O resultado esperado é uma código com pyspark que retorne o total liquido da empresa que é 59973.46."
   ]
  },
  {
   "cell_type": "code",
   "execution_count": 6,
   "metadata": {},
   "outputs": [],
   "source": [
    "# Conjunto de dados\n",
    "\n",
    "transacoes = [{'transacao_id':1, 'total_bruto':3000, 'desconto_percentual':6.99},\n",
    "            {'transacao_id':2, 'total_bruto':57989, 'desconto_percentual':1.45},\n",
    "            {'transacao_id':4, 'total_bruto':1, 'desconto_percentual':None},\n",
    "            {'transacao_id':5, 'total_bruto':34, 'desconto_percentual':0.0}]"
   ]
  },
  {
   "cell_type": "code",
   "execution_count": 3,
   "metadata": {},
   "outputs": [],
   "source": [
    "# importando modulos\n",
    "\n",
    "from pyspark.sql import SparkSession\n",
    "from pyspark.sql.functions import *"
   ]
  },
  {
   "cell_type": "code",
   "execution_count": 83,
   "metadata": {},
   "outputs": [],
   "source": [
    "# Criar sessão spark\n",
    "\n",
    "spark = SparkSession \\\n",
    "    .builder \\\n",
    "    .appName(\"Entregavel2\") \\\n",
    "    .getOrCreate()"
   ]
  },
  {
   "cell_type": "code",
   "execution_count": 84,
   "metadata": {},
   "outputs": [
    {
     "name": "stdout",
     "output_type": "stream",
     "text": [
      "root\n",
      " |-- desconto_percentual: double (nullable = true)\n",
      " |-- total_bruto: long (nullable = true)\n",
      " |-- transacao_id: long (nullable = true)\n",
      "\n"
     ]
    },
    {
     "name": "stderr",
     "output_type": "stream",
     "text": [
      "                                                                                \r"
     ]
    },
    {
     "name": "stdout",
     "output_type": "stream",
     "text": [
      "+-------------------+-----------+------------+\n",
      "|desconto_percentual|total_bruto|transacao_id|\n",
      "+-------------------+-----------+------------+\n",
      "|               6.99|       3000|           1|\n",
      "|               1.45|      57989|           2|\n",
      "|               null|          1|           4|\n",
      "|                0.0|         34|           5|\n",
      "+-------------------+-----------+------------+\n",
      "\n"
     ]
    }
   ],
   "source": [
    "# criar dataframe a partir dos dados de entrada que foi passado\n",
    "\n",
    "df = spark.createDataFrame(transacoes)\n",
    "\n",
    "# schema\n",
    "df.printSchema()\n",
    "\n",
    "# show df\n",
    "df.show()"
   ]
  },
  {
   "cell_type": "code",
   "execution_count": 85,
   "metadata": {},
   "outputs": [
    {
     "name": "stdout",
     "output_type": "stream",
     "text": [
      "root\n",
      " |-- total_liquido: double (nullable = true)\n",
      "\n",
      "+-------------------+-----------+------------+-------------+\n",
      "|desconto_percentual|total_bruto|transacao_id|total_liquido|\n",
      "+-------------------+-----------+------------+-------------+\n",
      "|               6.99|       3000|           1|       2790.3|\n",
      "|               1.45|      57989|           2|   57148.1595|\n",
      "|               null|          1|           4|         null|\n",
      "|                0.0|         34|           5|         34.0|\n",
      "+-------------------+-----------+------------+-------------+\n",
      "\n"
     ]
    }
   ],
   "source": [
    "# calculo\n",
    "\n",
    "df = df.withColumn(\"total_liquido\", col(\"total_bruto\") - (col(\"total_bruto\") * col(\"desconto_percentual\") / 100))\n",
    "\n",
    "# resultado\n",
    "# show\n",
    "\n",
    "df.select('total_liquido').printSchema()\n",
    "df.show()\n"
   ]
  },
  {
   "cell_type": "code",
   "execution_count": 87,
   "metadata": {},
   "outputs": [
    {
     "name": "stdout",
     "output_type": "stream",
     "text": [
      "+-------------+\n",
      "|total_liquido|\n",
      "+-------------+\n",
      "|     59972.46|\n",
      "+-------------+\n",
      "\n"
     ]
    }
   ],
   "source": [
    "# resultado final\n",
    "\n",
    "df_total_liquido = df.select((sum(df['total_liquido']).cast('float')).alias('total_liquido'))\n",
    "\n",
    "# show\n",
    "df_total_liquido.show()"
   ]
  },
  {
   "cell_type": "code",
   "execution_count": 88,
   "metadata": {},
   "outputs": [],
   "source": [
    "# Fechar sessão\n",
    "spark.stop()"
   ]
  }
 ],
 "metadata": {
  "kernelspec": {
   "display_name": "Python 3",
   "language": "python",
   "name": "python3"
  },
  "language_info": {
   "codemirror_mode": {
    "name": "ipython",
    "version": 3
   },
   "file_extension": ".py",
   "mimetype": "text/x-python",
   "name": "python",
   "nbconvert_exporter": "python",
   "pygments_lexer": "ipython3",
   "version": "3.10.10"
  },
  "orig_nbformat": 4
 },
 "nbformat": 4,
 "nbformat_minor": 2
}
